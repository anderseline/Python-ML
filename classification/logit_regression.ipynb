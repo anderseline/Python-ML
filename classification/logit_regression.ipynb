{
 "cells": [
  {
   "cell_type": "markdown",
   "metadata": {},
   "source": [
    "# Logistic Regression\r\n",
    "\r\n",
    "- Two-class problem solver\r\n",
    "- 1 / (1 + e^-x)\r\n",
    "- S shaped curve, classifies by determining if values are above/below a certain threshold on graph\r\n",
    "- In the context of machine learning, it's often expressed as: 1 / (1 + e^(-beta0-beta1*x1))\r\n",
    "- The coefficients (beta) need to be estimated from the training data, usually uses maximum-likelihood estimation. Best coefficients predict 1 for the default class and 0 for the other class\r\n",
    "\r\n",
    "## Learning with Gradient Descent\r\n",
    "\r\n",
    "Logistic regression uses gradient descent to update the coefficients based on the data, updated at each descent iteration\r\n",
    "\r\n",
    "Beta = Beta + learning rate * (y - y hat) * y hat * (1 - y hat) * x"
   ]
  },
  {
   "cell_type": "code",
   "execution_count": 2,
   "metadata": {},
   "outputs": [],
   "source": [
    "import numpy as np\r\n",
    "import pandas as pd \r\n",
    "import matplotlib.pyplot as plt\r\n",
    "import seaborn as sns "
   ]
  },
  {
   "cell_type": "code",
   "execution_count": 3,
   "metadata": {},
   "outputs": [
    {
     "data": {
      "text/plain": [
       "[<matplotlib.lines.Line2D at 0x1f0696b11c0>]"
      ]
     },
     "execution_count": 3,
     "metadata": {},
     "output_type": "execute_result"
    },
    {
     "data": {
      "image/png": "[encoded data removed]",
      "text/plain": [
       "<Figure size 864x576 with 1 Axes>"
      ]
     },
     "metadata": {
      "needs_background": "light"
     },
     "output_type": "display_data"
    }
   ],
   "source": [
    "x = np.linspace(-6, 6, num=1000)\r\n",
    "plt.figure(figsize=(12,8))\r\n",
    "plt.plot(x, 1 / (1 + np.exp(-x)))"
   ]
  },
  {
   "cell_type": "markdown",
   "metadata": {},
   "source": [
    "## Using Sklean to Estimate Coefficients"
   ]
  },
  {
   "cell_type": "code",
   "execution_count": 5,
   "metadata": {},
   "outputs": [],
   "source": [
    "from sklearn.linear_model import LogisticRegression\r\n",
    "dataset = [[-2.0111, 0],\r\n",
    "           [-1.4654, 0],\r\n",
    "           [0.0965, 0],\r\n",
    "           [1.3881, 0],\r\n",
    "           [3.0641, 0],\r\n",
    "           [7.6275, 1],\r\n",
    "           [5.3324, 1],\r\n",
    "           [6.9225, 1],\r\n",
    "           [8.6754, 1],\r\n",
    "           [7.6737, 1]]"
   ]
  },
  {
   "cell_type": "code",
   "execution_count": 7,
   "metadata": {},
   "outputs": [],
   "source": [
    "X = np.array(dataset)[:, 0:1]\r\n",
    "y = np.array(dataset)[:, 1]"
   ]
  },
  {
   "cell_type": "code",
   "execution_count": 10,
   "metadata": {},
   "outputs": [
    {
     "data": {
      "text/plain": [
       "(array([[-2.0111, -1.4654,  0.0965,  1.3881,  3.0641,  7.6275,  5.3324,\n",
       "          6.9225,  8.6754,  7.6737]]),\n",
       " array([0., 0., 0., 0., 0., 1., 1., 1., 1., 1.]))"
      ]
     },
     "execution_count": 10,
     "metadata": {},
     "output_type": "execute_result"
    }
   ],
   "source": [
    "X.T, y"
   ]
  },
  {
   "cell_type": "code",
   "execution_count": 15,
   "metadata": {},
   "outputs": [
    {
     "data": {
      "text/plain": [
       "LogisticRegression(C=1)"
      ]
     },
     "execution_count": 15,
     "metadata": {},
     "output_type": "execute_result"
    }
   ],
   "source": [
    "clf_LR = LogisticRegression(C=1, penalty='l2', tol=0.0001, solver='lbfgs')\r\n",
    "clf_LR.fit(X,y)"
   ]
  },
  {
   "cell_type": "code",
   "execution_count": 18,
   "metadata": {},
   "outputs": [],
   "source": [
    "y_pred = clf_LR.predict(X)"
   ]
  },
  {
   "cell_type": "code",
   "execution_count": 17,
   "metadata": {},
   "outputs": [
    {
     "data": {
      "text/plain": [
       "array([[0.99854977, 0.00145023],\n",
       "       [0.99740757, 0.00259243],\n",
       "       [0.98643655, 0.01356345],\n",
       "       [0.94829762, 0.05170238],\n",
       "       [0.7542903 , 0.2457097 ],\n",
       "       [0.02307933, 0.97692067],\n",
       "       [0.21456431, 0.78543569],\n",
       "       [0.0477181 , 0.9522819 ],\n",
       "       [0.00766721, 0.99233279],\n",
       "       [0.02199407, 0.97800593]])"
      ]
     },
     "execution_count": 17,
     "metadata": {},
     "output_type": "execute_result"
    }
   ],
   "source": [
    "# probability of each item being 0 or 1, measure of prediction confidence\r\n",
    "clf_LR.predict_proba(X)"
   ]
  },
  {
   "cell_type": "code",
   "execution_count": 19,
   "metadata": {},
   "outputs": [
    {
     "data": {
      "text/plain": [
       "array([[0., 0.],\n",
       "       [0., 0.],\n",
       "       [0., 0.],\n",
       "       [0., 0.],\n",
       "       [0., 0.],\n",
       "       [1., 1.],\n",
       "       [1., 1.],\n",
       "       [1., 1.],\n",
       "       [1., 1.],\n",
       "       [1., 1.]])"
      ]
     },
     "execution_count": 19,
     "metadata": {},
     "output_type": "execute_result"
    }
   ],
   "source": [
    "np.column_stack((y, y_pred))"
   ]
  }
 ],
 "metadata": {
  "interpreter": {
   "hash": "8c379c6632b839fe8cc95899702fc1eeb76422933665f151db5b483d30b68fa5"
  },
  "kernelspec": {
   "display_name": "Python 3.9.5 64-bit",
   "name": "python3"
  },
  "language_info": {
   "codemirror_mode": {
    "name": "ipython",
    "version": 3
   },
   "file_extension": ".py",
   "mimetype": "text/x-python",
   "name": "python",
   "nbconvert_exporter": "python",
   "pygments_lexer": "ipython3",
   "version": "3.9.5"
  },
  "orig_nbformat": 4
 },
 "nbformat": 4,
 "nbformat_minor": 2
}