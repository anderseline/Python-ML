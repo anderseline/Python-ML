{
 "cells": [
  {
   "cell_type": "markdown",
   "metadata": {},
   "source": [
    "# MNIST Dataset"
   ]
  },
  {
   "cell_type": "code",
   "execution_count": 3,
   "metadata": {},
   "outputs": [],
   "source": [
    "import numpy as np \r\n",
    "import sklearn\r\n",
    "from sklearn.datasets import fetch_openml"
   ]
  },
  {
   "cell_type": "code",
   "execution_count": 4,
   "metadata": {},
   "outputs": [],
   "source": [
    "mnist = fetch_openml(name='mnist_784')"
   ]
  },
  {
   "cell_type": "code",
   "execution_count": 8,
   "metadata": {},
   "outputs": [
    {
     "name": "stdout",
     "output_type": "stream",
     "text": [
      "70000\n",
      "<class 'sklearn.utils.Bunch'>\n"
     ]
    }
   ],
   "source": [
    "print(len(mnist['data']))\r\n",
    "print(type(mnist))"
   ]
  },
  {
   "cell_type": "code",
   "execution_count": 9,
   "metadata": {},
   "outputs": [],
   "source": [
    "X, y = mnist['data'], mnist['target']\r\n",
    "y = y.astype('float')"
   ]
  },
  {
   "cell_type": "code",
   "execution_count": 22,
   "metadata": {},
   "outputs": [
    {
     "data": {
      "text/plain": [
       "array([  0.,   0.,   0.,   0.,   0.,   0.,   0.,   0.,   0.,   0.,   0.,\n",
       "         0.,   0.,   0.,   0.,   0.,   0.,   0.,   0.,   0.,   0.,   0.,\n",
       "         0.,   0.,   0.,   0.,   0.,   0.,   0.,   0.,   0.,   0.,   0.,\n",
       "         0.,   0.,   0.,   0.,   0.,   0.,   0.,   0.,   0.,   0.,   0.,\n",
       "         0.,   0.,   0.,   0.,   0.,   0.,   0.,   0.,   0.,   0.,   0.,\n",
       "         0.,   0.,   0.,   0.,   0.,   0.,   0.,   0.,   0.,   0.,   0.,\n",
       "         0.,   0.,   0.,   0.,   0.,   0.,   0.,   8., 117., 254., 220.,\n",
       "        89.,   0.,   0.,   0.,   0.,   0.,   0.,   0.,   0.,   0.,   0.,\n",
       "         0.,   0.,   0.,   0.,   0.,   0.,   0.,   0.,   0.,   0.,   0.,\n",
       "        13.,  95., 212., 253., 253., 253., 157.,   0.,   0.,   0.,   0.,\n",
       "         0.,   0.,   0.,   0.,   0.,   0.,   0.,   0.,   0.,   0.,   0.,\n",
       "         0.,   0.,   0.,   0.,  16.,  95., 209., 253., 253., 253., 245.,\n",
       "       125.,  18.,   0.,   0.,   0.,   0.,   0.,   0.,   0.,   0.,   0.,\n",
       "         0.,   0.,   0.,   0.,   0.,   0.,   0.,   0.,  40.,  96., 206.,\n",
       "       253., 254., 253., 253., 198.,  64.,   0.,   0.,   0.,   0.,   0.,\n",
       "         0.,   0.,   0.,   0.,   0.,   0.,   0.,   0.,   0.,   0.,   0.,\n",
       "         0.,  44., 182., 240., 253., 253., 253., 254., 253., 198.,  24.,\n",
       "         0.,   0.,   0.,   0.,   0.,   0.,   0.,   0.,   0.,   0.,   0.,\n",
       "         0.,   0.,   0.,   0.,   0.,   0.,   0.,  15.,  60.,  60., 168.,\n",
       "       253., 253., 254., 200.,  23.,   0.,   0.,   0.,   0.,   0.,   0.,\n",
       "         0.,   0.,   0.,   0.,   0.,   0.,   0.,   0.,   0.,   0.,   0.,\n",
       "         0.,   0.,   0.,   0.,  70., 247., 253., 253., 245.,  21.,   0.,\n",
       "         0.,   0.,   0.,   0.,   0.,   0.,   0.,   0.,   0.,   0.,   0.,\n",
       "         0.,   0.,   0.,   0.,   0.,   0.,   0.,   0.,   0.,  75., 207.,\n",
       "       253., 253., 207.,  92.,   0.,   0.,   0.,   0.,   0.,   0.,   0.,\n",
       "         0.,   0.,   0.,   0.,   0.,   0.,   0.,   0.,   0.,   0.,   0.,\n",
       "         0.,   0.,   0.,  79., 219., 253., 253., 253., 138.,   0.,   0.,\n",
       "         0.,   0.,   0.,   0.,   0.,   0.,   0.,   0.,   0.,   0.,   0.,\n",
       "         0.,   0.,   0.,   0.,   0.,   0.,   0.,   0., 105., 250., 253.,\n",
       "       253., 253.,  34.,   1.,   0.,   0.,   0.,   0.,   0.,   0.,   0.,\n",
       "         0.,   0.,   0.,   0.,   0.,   0.,   0.,   0.,   0.,   0.,   0.,\n",
       "         0.,   0.,  95., 254., 254., 254., 254.,  94.,   0.,   0.,   0.,\n",
       "         0.,   0.,   3.,  13.,  13.,  13.,   8.,   0.,   0.,   0.,   0.,\n",
       "         0.,   0.,   0.,   0.,   0.,   0.,   0.,   0., 107., 253., 253.,\n",
       "       253., 204.,  15.,   0.,   0.,   0.,   0.,  21., 166., 253., 253.,\n",
       "       253., 212.,  25.,   0.,   0.,   0.,   0.,   0.,   0.,   0.,   0.,\n",
       "         0.,   0.,  33., 217., 253., 253., 132.,  64.,   0.,   0.,  18.,\n",
       "        43., 157., 171., 253., 253., 253., 253., 253., 160.,   2.,   0.,\n",
       "         0.,   0.,   0.,   0.,   0.,   0.,   0.,   3., 166., 253., 253.,\n",
       "       242.,  49.,  17.,  49., 158., 210., 254., 253., 253., 253., 253.,\n",
       "       253., 253., 253., 253.,  11.,   0.,   0.,   0.,   0.,   0.,   0.,\n",
       "         0.,   0.,  10., 227., 253., 253., 207.,  15., 172., 253., 253.,\n",
       "       253., 254., 247., 201., 253., 210., 210., 253., 253., 175.,   4.,\n",
       "         0.,   0.,   0.,   0.,   0.,   0.,   0.,   0.,  10., 228., 253.,\n",
       "       253., 224.,  87., 242., 253., 253., 184.,  60.,  54.,   9.,  60.,\n",
       "        35., 182., 253., 253.,  52.,   0.,   0.,   0.,   0.,   0.,   0.,\n",
       "         0.,   0.,   0.,  13., 253., 253., 253., 253., 231., 253., 253.,\n",
       "       253.,  93.,  86.,  86.,  86., 109., 217., 253., 253., 134.,   5.,\n",
       "         0.,   0.,   0.,   0.,   0.,   0.,   0.,   0.,   0.,   2., 115.,\n",
       "       253., 253., 253., 253., 253., 253., 253., 253., 254., 253., 253.,\n",
       "       253., 253., 253., 134.,   5.,   0.,   0.,   0.,   0.,   0.,   0.,\n",
       "         0.,   0.,   0.,   0.,   0.,   3., 166., 253., 253., 253., 253.,\n",
       "       253., 253., 253., 254., 253., 253., 253., 175.,  52.,   5.,   0.,\n",
       "         0.,   0.,   0.,   0.,   0.,   0.,   0.,   0.,   0.,   0.,   0.,\n",
       "         0.,   7.,  35., 132., 225., 253., 253., 253., 195., 132., 132.,\n",
       "       132., 110.,   4.,   0.,   0.,   0.,   0.,   0.,   0.,   0.,   0.,\n",
       "         0.,   0.,   0.,   0.,   0.,   0.,   0.,   0.,   0.,   0.,   0.,\n",
       "         0.,   0.,   0.,   0.,   0.,   0.,   0.,   0.,   0.,   0.,   0.,\n",
       "         0.,   0.,   0.,   0.,   0.,   0.,   0.,   0.,   0.,   0.,   0.,\n",
       "         0.,   0.,   0.,   0.,   0.,   0.,   0.,   0.,   0.,   0.,   0.,\n",
       "         0.,   0.,   0.,   0.,   0.,   0.,   0.,   0.,   0.,   0.,   0.,\n",
       "         0.,   0.,   0.,   0.,   0.,   0.,   0.,   0.,   0.,   0.,   0.,\n",
       "         0.,   0.,   0.,   0.,   0.,   0.,   0.,   0.,   0.,   0.,   0.,\n",
       "         0.,   0.,   0.,   0.,   0.,   0.,   0.,   0.,   0.,   0.,   0.,\n",
       "         0.,   0.,   0.,   0.,   0.,   0.,   0.,   0.,   0.,   0.,   0.,\n",
       "         0.,   0.,   0.,   0.,   0.,   0.,   0.,   0.,   0.,   0.,   0.,\n",
       "         0.,   0.,   0.,   0.,   0.,   0.,   0.,   0.,   0.,   0.,   0.,\n",
       "         0.,   0.,   0.,   0.,   0.,   0.,   0.,   0.,   0.,   0.,   0.,\n",
       "         0.,   0.,   0.,   0.,   0.,   0.,   0.,   0.,   0.,   0.,   0.,\n",
       "         0.,   0.,   0.,   0.,   0.,   0.,   0.,   0.,   0.,   0.,   0.,\n",
       "         0.,   0.,   0.,   0.,   0.,   0.,   0.,   0.,   0.,   0.,   0.,\n",
       "         0.,   0.,   0.])"
      ]
     },
     "execution_count": 22,
     "metadata": {},
     "output_type": "execute_result"
    }
   ],
   "source": [
    "X = np.array(X)\r\n",
    "X[69999]"
   ]
  },
  {
   "cell_type": "code",
   "execution_count": 12,
   "metadata": {},
   "outputs": [
    {
     "data": {
      "text/plain": [
       "6.0"
      ]
     },
     "execution_count": 12,
     "metadata": {},
     "output_type": "execute_result"
    }
   ],
   "source": [
    "y[69999]"
   ]
  },
  {
   "cell_type": "code",
   "execution_count": 25,
   "metadata": {},
   "outputs": [
    {
     "data": {
      "image/png": "[encoded data removed]",
      "text/plain": [
       "<Figure size 432x288 with 1 Axes>"
      ]
     },
     "metadata": {
      "needs_background": "light"
     },
     "output_type": "display_data"
    }
   ],
   "source": [
    "import matplotlib.pyplot as plt \r\n",
    "import seaborn as sns\r\n",
    "\r\n",
    "def viz(n):\r\n",
    "    plt.imshow(X[n].reshape(28, 28))\r\n",
    "    return\r\n",
    "viz(69999)"
   ]
  },
  {
   "cell_type": "code",
   "execution_count": 28,
   "metadata": {},
   "outputs": [
    {
     "data": {
      "text/plain": [
       "(array([    2,     9,    20, ..., 69977, 69987, 69997], dtype=int64),)"
      ]
     },
     "execution_count": 28,
     "metadata": {},
     "output_type": "execute_result"
    }
   ],
   "source": [
    "# find 4s\r\n",
    "np.where(y==4)"
   ]
  },
  {
   "cell_type": "code",
   "execution_count": 30,
   "metadata": {},
   "outputs": [
    {
     "data": {
      "image/png": "[encoded data removed]",
      "text/plain": [
       "<Figure size 432x288 with 1 Axes>"
      ]
     },
     "metadata": {
      "needs_background": "light"
     },
     "output_type": "display_data"
    }
   ],
   "source": [
    "viz(2)"
   ]
  },
  {
   "cell_type": "markdown",
   "metadata": {},
   "source": [
    "## Train / Test Sets"
   ]
  },
  {
   "cell_type": "code",
   "execution_count": 36,
   "metadata": {},
   "outputs": [],
   "source": [
    "from sklearn.model_selection import train_test_split\r\n",
    "# shuffle to make sure trainign set is randomized, usually done with the exception of time series data\r\n",
    "X_train, X_test, y_train, y_test = train_test_split(\r\n",
    "    X, y, test_size=0.2, shuffle=True, random_state=0\r\n",
    ")"
   ]
  },
  {
   "cell_type": "markdown",
   "metadata": {},
   "source": [
    "## Training a Binary Classifier\r\n",
    "\r\n",
    "Convert this problem from 10 options (0-9) to binary, simplifies the approach\r\n",
    "\r\n",
    "Start with a binary problem for if the number is 0 or not"
   ]
  },
  {
   "cell_type": "code",
   "execution_count": 37,
   "metadata": {},
   "outputs": [],
   "source": [
    "y_train_0 = y_train == 0\r\n",
    "y_test_0 = y_test == 0"
   ]
  },
  {
   "cell_type": "markdown",
   "metadata": {},
   "source": [
    "## SGDDClassifier"
   ]
  },
  {
   "cell_type": "code",
   "execution_count": 39,
   "metadata": {},
   "outputs": [
    {
     "data": {
      "text/plain": [
       "SGDClassifier(random_state=0)"
      ]
     },
     "execution_count": 39,
     "metadata": {},
     "output_type": "execute_result"
    }
   ],
   "source": [
    "from sklearn.linear_model import SGDClassifier\r\n",
    "\r\n",
    "clf = SGDClassifier(random_state=0)\r\n",
    "clf.fit(X_train, y_train_0)"
   ]
  },
  {
   "cell_type": "code",
   "execution_count": 40,
   "metadata": {},
   "outputs": [
    {
     "data": {
      "image/png": "[encoded data removed]",
      "text/plain": [
       "<Figure size 432x288 with 1 Axes>"
      ]
     },
     "metadata": {
      "needs_background": "light"
     },
     "output_type": "display_data"
    }
   ],
   "source": [
    "viz(1000)"
   ]
  },
  {
   "cell_type": "code",
   "execution_count": 42,
   "metadata": {},
   "outputs": [
    {
     "data": {
      "text/plain": [
       "array([ True])"
      ]
     },
     "execution_count": 42,
     "metadata": {},
     "output_type": "execute_result"
    }
   ],
   "source": [
    "# correct prediction\r\n",
    "clf.predict(X[1000].reshape(1, -1))"
   ]
  },
  {
   "cell_type": "markdown",
   "metadata": {},
   "source": [
    "## Performance Measures -  Measuring Accuracy using CV\r\n",
    "\r\n",
    "### K-Fold CV"
   ]
  },
  {
   "cell_type": "code",
   "execution_count": 47,
   "metadata": {},
   "outputs": [],
   "source": [
    "from sklearn.model_selection import cross_val_score"
   ]
  },
  {
   "cell_type": "code",
   "execution_count": 48,
   "metadata": {},
   "outputs": [
    {
     "data": {
      "text/plain": [
       "array([0.98708952, 0.9869288 , 0.98907104])"
      ]
     },
     "execution_count": 48,
     "metadata": {},
     "output_type": "execute_result"
    }
   ],
   "source": [
    "cross_val_score(clf, X_train, y_train_0, cv=3, scoring='accuracy')"
   ]
  },
  {
   "cell_type": "markdown",
   "metadata": {},
   "source": [
    "## Confusion Matrix"
   ]
  },
  {
   "cell_type": "code",
   "execution_count": 49,
   "metadata": {},
   "outputs": [],
   "source": [
    "from sklearn.model_selection import cross_val_predict"
   ]
  },
  {
   "cell_type": "code",
   "execution_count": 50,
   "metadata": {},
   "outputs": [],
   "source": [
    "y_train_pred = cross_val_predict(clf, X_train, y_train_0, cv=3)"
   ]
  },
  {
   "cell_type": "code",
   "execution_count": 51,
   "metadata": {},
   "outputs": [],
   "source": [
    "from sklearn.metrics import confusion_matrix"
   ]
  },
  {
   "cell_type": "code",
   "execution_count": 56,
   "metadata": {},
   "outputs": [
    {
     "data": {
      "text/html": [
       "<div>\n",
       "<style scoped>\n",
       "    .dataframe tbody tr th:only-of-type {\n",
       "        vertical-align: middle;\n",
       "    }\n",
       "\n",
       "    .dataframe tbody tr th {\n",
       "        vertical-align: top;\n",
       "    }\n",
       "\n",
       "    .dataframe thead tr th {\n",
       "        text-align: left;\n",
       "    }\n",
       "</style>\n",
       "<table border=\"1\" class=\"dataframe\">\n",
       "  <thead>\n",
       "    <tr>\n",
       "      <th></th>\n",
       "      <th></th>\n",
       "      <th colspan=\"2\" halign=\"left\">Prediction</th>\n",
       "    </tr>\n",
       "    <tr>\n",
       "      <th></th>\n",
       "      <th></th>\n",
       "      <th>Negative</th>\n",
       "      <th>Positive</th>\n",
       "    </tr>\n",
       "  </thead>\n",
       "  <tbody>\n",
       "    <tr>\n",
       "      <th rowspan=\"2\" valign=\"top\">Actual</th>\n",
       "      <th>Negative</th>\n",
       "      <td>50194</td>\n",
       "      <td>290</td>\n",
       "    </tr>\n",
       "    <tr>\n",
       "      <th>Positive</th>\n",
       "      <td>399</td>\n",
       "      <td>5117</td>\n",
       "    </tr>\n",
       "  </tbody>\n",
       "</table>\n",
       "</div>"
      ],
      "text/plain": [
       "                Prediction         \n",
       "                  Negative Positive\n",
       "Actual Negative      50194      290\n",
       "       Positive        399     5117"
      ]
     },
     "execution_count": 56,
     "metadata": {},
     "output_type": "execute_result"
    }
   ],
   "source": [
    "import pandas as pd\r\n",
    "pd.DataFrame(\r\n",
    "    confusion_matrix(y_train_0, y_train_pred),\r\n",
    "    columns=pd.MultiIndex.from_product([['Prediction'], ['Negative', 'Positive']]),\r\n",
    "    index = pd.MultiIndex.from_product([['Actual'], ['Negative', 'Positive']])\r\n",
    "    )"
   ]
  },
  {
   "cell_type": "markdown",
   "metadata": {},
   "source": [
    "## Precision \r\n",
    "\r\n",
    "Measures the accuracy of positive scores. Right side of confusion matrix\r\n",
    "\r\n",
    "precision = true positives / (true positives + false positives)"
   ]
  },
  {
   "cell_type": "code",
   "execution_count": 57,
   "metadata": {},
   "outputs": [],
   "source": [
    "from sklearn.metrics import precision_score, recall_score"
   ]
  },
  {
   "cell_type": "code",
   "execution_count": 58,
   "metadata": {},
   "outputs": [
    {
     "data": {
      "text/plain": [
       "0.9463658220824857"
      ]
     },
     "execution_count": 58,
     "metadata": {},
     "output_type": "execute_result"
    }
   ],
   "source": [
    "precision_score(y_train_0, y_train_pred)"
   ]
  },
  {
   "cell_type": "markdown",
   "metadata": {},
   "source": [
    "## Recall \r\n",
    "\r\n",
    "Also called sensitivity or true positive rate, ratio of positive instances that are correct. Botom row of confusion matrix. Negatively dependent on precision\r\n",
    "\r\n",
    "recall = true positives / (true positives + false negatives)"
   ]
  },
  {
   "cell_type": "code",
   "execution_count": 59,
   "metadata": {},
   "outputs": [
    {
     "data": {
      "text/plain": [
       "0.9276649746192893"
      ]
     },
     "execution_count": 59,
     "metadata": {},
     "output_type": "execute_result"
    }
   ],
   "source": [
    "recall_score(y_train_0, y_train_pred)"
   ]
  },
  {
   "cell_type": "markdown",
   "metadata": {},
   "source": [
    "## F1 Score\r\n",
    "\r\n",
    "Harmonic mean of precision and recall, gives more weight to lower values\r\n",
    "\r\n",
    "F1 = 2 / (1/precision + 1/recall) "
   ]
  },
  {
   "cell_type": "code",
   "execution_count": 60,
   "metadata": {},
   "outputs": [
    {
     "data": {
      "text/plain": [
       "0.9369220910006407"
      ]
     },
     "execution_count": 60,
     "metadata": {},
     "output_type": "execute_result"
    }
   ],
   "source": [
    "from sklearn.metrics import f1_score\r\n",
    "f1_score(y_train_0, y_train_pred)"
   ]
  },
  {
   "cell_type": "markdown",
   "metadata": {},
   "source": [
    "## Precision / Recall Tradeoff"
   ]
  },
  {
   "cell_type": "code",
   "execution_count": 61,
   "metadata": {},
   "outputs": [
    {
     "data": {
      "text/plain": [
       "(array([1.000e+00, 0.000e+00, 0.000e+00, 0.000e+00, 1.000e+00, 0.000e+00,\n",
       "        0.000e+00, 0.000e+00, 3.000e+00, 2.000e+00, 2.000e+00, 1.000e+00,\n",
       "        1.000e+00, 0.000e+00, 1.000e+00, 2.000e+00, 3.000e+00, 4.000e+00,\n",
       "        4.000e+00, 6.000e+00, 4.000e+00, 4.000e+00, 9.000e+00, 1.000e+01,\n",
       "        1.300e+01, 2.000e+01, 2.100e+01, 3.200e+01, 3.600e+01, 4.900e+01,\n",
       "        5.400e+01, 5.600e+01, 8.100e+01, 9.600e+01, 1.300e+02, 1.310e+02,\n",
       "        1.960e+02, 2.150e+02, 2.440e+02, 2.730e+02, 3.020e+02, 3.700e+02,\n",
       "        4.840e+02, 5.400e+02, 6.390e+02, 6.720e+02, 8.320e+02, 9.360e+02,\n",
       "        1.061e+03, 1.221e+03, 1.321e+03, 1.474e+03, 1.710e+03, 1.872e+03,\n",
       "        2.123e+03, 2.244e+03, 2.418e+03, 2.631e+03, 2.692e+03, 2.688e+03,\n",
       "        2.751e+03, 2.592e+03, 2.526e+03, 2.290e+03, 2.118e+03, 1.833e+03,\n",
       "        1.628e+03, 1.308e+03, 1.089e+03, 8.190e+02, 6.330e+02, 4.810e+02,\n",
       "        3.210e+02, 2.740e+02, 2.560e+02, 2.350e+02, 2.860e+02, 3.310e+02,\n",
       "        4.370e+02, 4.750e+02, 4.990e+02, 5.130e+02, 4.970e+02, 4.770e+02,\n",
       "        3.540e+02, 3.280e+02, 2.450e+02, 1.660e+02, 1.120e+02, 6.400e+01,\n",
       "        5.000e+01, 2.400e+01, 1.700e+01, 1.700e+01, 9.000e+00, 4.000e+00,\n",
       "        3.000e+00, 1.000e+00, 1.000e+00, 1.000e+00]),\n",
       " array([-2.40683882e+05, -2.37431061e+05, -2.34178241e+05, -2.30925421e+05,\n",
       "        -2.27672601e+05, -2.24419780e+05, -2.21166960e+05, -2.17914140e+05,\n",
       "        -2.14661320e+05, -2.11408499e+05, -2.08155679e+05, -2.04902859e+05,\n",
       "        -2.01650039e+05, -1.98397218e+05, -1.95144398e+05, -1.91891578e+05,\n",
       "        -1.88638758e+05, -1.85385938e+05, -1.82133117e+05, -1.78880297e+05,\n",
       "        -1.75627477e+05, -1.72374657e+05, -1.69121836e+05, -1.65869016e+05,\n",
       "        -1.62616196e+05, -1.59363376e+05, -1.56110555e+05, -1.52857735e+05,\n",
       "        -1.49604915e+05, -1.46352095e+05, -1.43099274e+05, -1.39846454e+05,\n",
       "        -1.36593634e+05, -1.33340814e+05, -1.30087993e+05, -1.26835173e+05,\n",
       "        -1.23582353e+05, -1.20329533e+05, -1.17076712e+05, -1.13823892e+05,\n",
       "        -1.10571072e+05, -1.07318252e+05, -1.04065431e+05, -1.00812611e+05,\n",
       "        -9.75597910e+04, -9.43069708e+04, -9.10541505e+04, -8.78013303e+04,\n",
       "        -8.45485101e+04, -8.12956898e+04, -7.80428696e+04, -7.47900493e+04,\n",
       "        -7.15372291e+04, -6.82844089e+04, -6.50315886e+04, -6.17787684e+04,\n",
       "        -5.85259481e+04, -5.52731279e+04, -5.20203077e+04, -4.87674874e+04,\n",
       "        -4.55146672e+04, -4.22618469e+04, -3.90090267e+04, -3.57562064e+04,\n",
       "        -3.25033862e+04, -2.92505660e+04, -2.59977457e+04, -2.27449255e+04,\n",
       "        -1.94921052e+04, -1.62392850e+04, -1.29864648e+04, -9.73364453e+03,\n",
       "        -6.48082429e+03, -3.22800405e+03,  2.48161944e+01,  3.27763643e+03,\n",
       "         6.53045667e+03,  9.78327692e+03,  1.30360972e+04,  1.62889174e+04,\n",
       "         1.95417376e+04,  2.27945579e+04,  2.60473781e+04,  2.93001984e+04,\n",
       "         3.25530186e+04,  3.58058388e+04,  3.90586591e+04,  4.23114793e+04,\n",
       "         4.55642996e+04,  4.88171198e+04,  5.20699400e+04,  5.53227603e+04,\n",
       "         5.85755805e+04,  6.18284008e+04,  6.50812210e+04,  6.83340412e+04,\n",
       "         7.15868615e+04,  7.48396817e+04,  7.80925020e+04,  8.13453222e+04,\n",
       "         8.45981424e+04]),\n",
       " <BarContainer object of 100 artists>)"
      ]
     },
     "execution_count": 61,
     "metadata": {},
     "output_type": "execute_result"
    },
    {
     "data": {
      "image/png": "[encoded data removed]",
      "text/plain": [
       "<Figure size 864x576 with 1 Axes>"
      ]
     },
     "metadata": {
      "needs_background": "light"
     },
     "output_type": "display_data"
    }
   ],
   "source": [
    "y_scores = cross_val_predict(clf, X_train, y_train_0, cv=3, method='decision_function')\r\n",
    "plt.figure(figsize=(12,8))\r\n",
    "plt.hist(y_scores, bins=100)"
   ]
  },
  {
   "cell_type": "markdown",
   "metadata": {},
   "source": [
    "Plot of decision function scores\r\n",
    "\r\n",
    "Right side is Y = 0, while left side is Y != 0\r\n",
    "\r\n",
    "Small amount of overlap between ditributions around 0\r\n",
    "\r\n",
    "Can compute precision and recall for all possible thresholds using the ```precision_recall_curve``` function"
   ]
  },
  {
   "cell_type": "code",
   "execution_count": 63,
   "metadata": {},
   "outputs": [],
   "source": [
    "from sklearn.metrics import precision_recall_curve\r\n",
    "precisions, recalls, thresholds = precision_recall_curve(y_train_0, y_scores)"
   ]
  },
  {
   "cell_type": "code",
   "execution_count": 64,
   "metadata": {},
   "outputs": [
    {
     "data": {
      "image/png": "[encoded data removed]",
      "text/plain": [
       "<Figure size 432x288 with 1 Axes>"
      ]
     },
     "metadata": {
      "needs_background": "light"
     },
     "output_type": "display_data"
    }
   ],
   "source": [
    "def plot_precision_v_recall(precisions, recalls, thresholds):\r\n",
    "    plt.plot(thresholds, precisions[:-1], 'b--', label = 'precision')\r\n",
    "    plt.plot(thresholds, recalls[:-1], 'g--', label = 'recall')\r\n",
    "    plt.xlabel('threshold')\r\n",
    "    plt.legend(loc='upper left')\r\n",
    "    \r\n",
    "plot_precision_v_recall(precisions, recalls, thresholds)"
   ]
  },
  {
   "cell_type": "markdown",
   "metadata": {},
   "source": [
    "## Setting High Precisions\r\n",
    "\r\n",
    "Suppose we want precision to be greater than 90%"
   ]
  },
  {
   "cell_type": "code",
   "execution_count": 65,
   "metadata": {},
   "outputs": [
    {
     "data": {
      "text/plain": [
       "[<matplotlib.lines.Line2D at 0x1a70e6fbcd0>]"
      ]
     },
     "execution_count": 65,
     "metadata": {},
     "output_type": "execute_result"
    },
    {
     "data": {
      "image/png": "[encoded data removed]",
      "text/plain": [
       "<Figure size 720x576 with 1 Axes>"
      ]
     },
     "metadata": {
      "needs_background": "light"
     },
     "output_type": "display_data"
    }
   ],
   "source": [
    "plt.figure(figsize=(10,8))\r\n",
    "plt.plot(thresholds, precisions[1:])"
   ]
  },
  {
   "cell_type": "code",
   "execution_count": 66,
   "metadata": {},
   "outputs": [
    {
     "data": {
      "text/plain": [
       "-4909.616739766118"
      ]
     },
     "execution_count": 66,
     "metadata": {},
     "output_type": "execute_result"
    }
   ],
   "source": [
    "idx = len(precisions[precisions < 0.9])\r\n",
    "thresholds[idx]"
   ]
  },
  {
   "cell_type": "code",
   "execution_count": 67,
   "metadata": {},
   "outputs": [
    {
     "data": {
      "text/plain": [
       "0.9002575107296137"
      ]
     },
     "execution_count": 67,
     "metadata": {},
     "output_type": "execute_result"
    }
   ],
   "source": [
    "y_train_pred_90 = (y_scores > thresholds[idx])\r\n",
    "precision_score(y_train_0, y_train_pred_90)"
   ]
  },
  {
   "cell_type": "code",
   "execution_count": 68,
   "metadata": {},
   "outputs": [
    {
     "data": {
      "text/plain": [
       "0.9506889050036258"
      ]
     },
     "execution_count": 68,
     "metadata": {},
     "output_type": "execute_result"
    }
   ],
   "source": [
    "recall_score(y_train_0, y_train_pred_90)"
   ]
  }
 ],
 "metadata": {
  "interpreter": {
   "hash": "8c379c6632b839fe8cc95899702fc1eeb76422933665f151db5b483d30b68fa5"
  },
  "kernelspec": {
   "display_name": "Python 3.9.5 64-bit",
   "name": "python3"
  },
  "language_info": {
   "codemirror_mode": {
    "name": "ipython",
    "version": 3
   },
   "file_extension": ".py",
   "mimetype": "text/x-python",
   "name": "python",
   "nbconvert_exporter": "python",
   "pygments_lexer": "ipython3",
   "version": "3.9.5"
  },
  "orig_nbformat": 4
 },
 "nbformat": 4,
 "nbformat_minor": 2
}