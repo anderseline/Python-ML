{
 "cells": [
  {
   "cell_type": "markdown",
   "metadata": {},
   "source": [
    "# k-Nearest Neighbor (KNN)\r\n",
    "\r\n",
    "- Classification and Regression\r\n",
    "- Based on assumption that datapoints of a certain characteristic are often similar (or close) to each other in certain ways\r\n",
    "    - Ex. Those who default on loans have high interest rates and lower income\r\n",
    "- Lazy Learner: Instance based, does not try to learn a function from the training data, memorizes pattern from dataset instead \r\n",
    "- Nonparametric Model: Distribution free tests since no assumptions about data shape are made, unlike regressions, SVM or decision tree models\r\n",
    "- Often used for:\r\n",
    "    - Predict cancer as malignant or benign\r\n",
    "    - Pattern recognition\r\n",
    "    - Recommender Systems\r\n",
    "    - Computer Vision\r\n",
    "    - Gene Expression\r\n",
    "    - 3D Structure Prediction\r\n",
    "- Inefficient on big data, must be heavily trained\r\n",
    "- Risk of overfitting, curse of dimensionality\r\n",
    "\r\n",
    "## Steps\r\n",
    "1. Choose number of $ k $\r\n",
    "2. Select distance matrix\r\n",
    "3. Find $ k $ nearest neighbors of the sample\r\n",
    "4. Assign class label by majority vote"
   ]
  },
  {
   "cell_type": "code",
   "execution_count": 1,
   "metadata": {},
   "outputs": [],
   "source": [
    "import numpy as np \r\n",
    "import pandas as pd\r\n",
    "import seaborn as sns\r\n",
    "from sklearn import datasets\r\n",
    "sns.set_style('whitegrid')"
   ]
  },
  {
   "cell_type": "code",
   "execution_count": 2,
   "metadata": {},
   "outputs": [
    {
     "data": {
      "text/html": [
       "<div>\n",
       "<style scoped>\n",
       "    .dataframe tbody tr th:only-of-type {\n",
       "        vertical-align: middle;\n",
       "    }\n",
       "\n",
       "    .dataframe tbody tr th {\n",
       "        vertical-align: top;\n",
       "    }\n",
       "\n",
       "    .dataframe thead th {\n",
       "        text-align: right;\n",
       "    }\n",
       "</style>\n",
       "<table border=\"1\" class=\"dataframe\">\n",
       "  <thead>\n",
       "    <tr style=\"text-align: right;\">\n",
       "      <th></th>\n",
       "      <th>sepal_length</th>\n",
       "      <th>sepal_width</th>\n",
       "      <th>petal_length</th>\n",
       "      <th>petal_width</th>\n",
       "      <th>species</th>\n",
       "    </tr>\n",
       "  </thead>\n",
       "  <tbody>\n",
       "    <tr>\n",
       "      <th>0</th>\n",
       "      <td>5.1</td>\n",
       "      <td>3.5</td>\n",
       "      <td>1.4</td>\n",
       "      <td>0.2</td>\n",
       "      <td>setosa</td>\n",
       "    </tr>\n",
       "    <tr>\n",
       "      <th>1</th>\n",
       "      <td>4.9</td>\n",
       "      <td>3.0</td>\n",
       "      <td>1.4</td>\n",
       "      <td>0.2</td>\n",
       "      <td>setosa</td>\n",
       "    </tr>\n",
       "    <tr>\n",
       "      <th>2</th>\n",
       "      <td>4.7</td>\n",
       "      <td>3.2</td>\n",
       "      <td>1.3</td>\n",
       "      <td>0.2</td>\n",
       "      <td>setosa</td>\n",
       "    </tr>\n",
       "    <tr>\n",
       "      <th>3</th>\n",
       "      <td>4.6</td>\n",
       "      <td>3.1</td>\n",
       "      <td>1.5</td>\n",
       "      <td>0.2</td>\n",
       "      <td>setosa</td>\n",
       "    </tr>\n",
       "    <tr>\n",
       "      <th>4</th>\n",
       "      <td>5.0</td>\n",
       "      <td>3.6</td>\n",
       "      <td>1.4</td>\n",
       "      <td>0.2</td>\n",
       "      <td>setosa</td>\n",
       "    </tr>\n",
       "  </tbody>\n",
       "</table>\n",
       "</div>"
      ],
      "text/plain": [
       "   sepal_length  sepal_width  petal_length  petal_width species\n",
       "0           5.1          3.5           1.4          0.2  setosa\n",
       "1           4.9          3.0           1.4          0.2  setosa\n",
       "2           4.7          3.2           1.3          0.2  setosa\n",
       "3           4.6          3.1           1.5          0.2  setosa\n",
       "4           5.0          3.6           1.4          0.2  setosa"
      ]
     },
     "execution_count": 2,
     "metadata": {},
     "output_type": "execute_result"
    }
   ],
   "source": [
    "df = sns.load_dataset('iris')\r\n",
    "df.head()"
   ]
  },
  {
   "cell_type": "code",
   "execution_count": 3,
   "metadata": {},
   "outputs": [],
   "source": [
    "X_train = df[['petal_length', 'petal_width']]\r\n",
    "species_to_num = { \r\n",
    "    'setosa' : 0,\r\n",
    "    'versicolor' : 1,\r\n",
    "    'virginica' : 2\r\n",
    "}\r\n",
    "df['species'] = df['species'].map(species_to_num)"
   ]
  },
  {
   "cell_type": "code",
   "execution_count": 4,
   "metadata": {},
   "outputs": [],
   "source": [
    "y_train = df['species']"
   ]
  },
  {
   "cell_type": "code",
   "execution_count": 8,
   "metadata": {},
   "outputs": [],
   "source": [
    "from sklearn.neighbors import KNeighborsClassifier\r\n",
    "import matplotlib.pyplot as plt"
   ]
  },
  {
   "cell_type": "code",
   "execution_count": 6,
   "metadata": {},
   "outputs": [
    {
     "data": {
      "text/plain": [
       "KNeighborsClassifier(n_neighbors=50)"
      ]
     },
     "execution_count": 6,
     "metadata": {},
     "output_type": "execute_result"
    }
   ],
   "source": [
    "knn = KNeighborsClassifier(n_neighbors=50)\r\n",
    "knn.fit(X_train, y_train)"
   ]
  },
  {
   "cell_type": "code",
   "execution_count": 13,
   "metadata": {},
   "outputs": [
    {
     "data": {
      "image/png": "[encoded data removed]",
      "text/plain": [
       "<Figure size 576x360 with 1 Axes>"
      ]
     },
     "metadata": {},
     "output_type": "display_data"
    }
   ],
   "source": [
    "Xv = X_train.values.reshape(-1,1)\r\n",
    "h = 0.02\r\n",
    "x_min, x_max = Xv.min(), Xv.max() + 1\r\n",
    "y_min, y_max = y_train.min(), y_train.max() + 1\r\n",
    "xx, yy = np.meshgrid(\r\n",
    "    np.arange(x_min, x_max, h),\r\n",
    "    np.arange(y_min, y_max, h)\r\n",
    ")\r\n",
    "\r\n",
    "z = knn.predict(np.c_[xx.ravel(), yy.ravel()])\r\n",
    "z = z.reshape(xx.shape)\r\n",
    "\r\n",
    "fig = plt.figure(figsize=(8,5))\r\n",
    "\r\n",
    "ax = plt.contourf(\r\n",
    "    xx, yy, z, cmap='afmhot', alpha=0.3\r\n",
    ")\r\n",
    "plt.scatter(\r\n",
    "    X_train.values[:, 0], X_train.values[:, 1], c=y_train, s=40, \r\n",
    "    alpha=0.9, edgecolors='k'\r\n",
    ");"
   ]
  }
 ],
 "metadata": {
  "interpreter": {
   "hash": "8c379c6632b839fe8cc95899702fc1eeb76422933665f151db5b483d30b68fa5"
  },
  "kernelspec": {
   "display_name": "Python 3.9.5 64-bit",
   "name": "python3"
  },
  "language_info": {
   "codemirror_mode": {
    "name": "ipython",
    "version": 3
   },
   "file_extension": ".py",
   "mimetype": "text/x-python",
   "name": "python",
   "nbconvert_exporter": "python",
   "pygments_lexer": "ipython3",
   "version": "3.9.5"
  },
  "orig_nbformat": 4
 },
 "nbformat": 4,
 "nbformat_minor": 2
}