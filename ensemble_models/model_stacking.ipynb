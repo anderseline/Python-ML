{
 "cells": [
  {
   "cell_type": "markdown",
   "metadata": {},
   "source": [
    "# Model Stacking\r\n",
    "\r\n",
    "- Ensemble with different types of classifiers\r\n",
    "    - Ex. Decision trees, logistic regression, are fitted on the same training data\r\n",
    "    - Results are combined based on:\r\n",
    "        - Majority voting (classification)\r\n",
    "        - Average (regression)\r\n",
    "- Ensemble with one type of classifier\r\n",
    "    - Boostrap samples are drawn from the training data\r\n",
    "    - Model fitted on each boostrap sample\r\n",
    "    - All the results are combined to create an ensemble\r\n",
    "    - Suitable for highly flexible models that are prone to overfitting / high variance\r\n",
    "\r\n",
    "## Combining Methods\r\n",
    "\r\n",
    "- Majority voting / average\r\n",
    "- Method of application of meta-classifiers on outcomes\r\n",
    "    - Binary outcome form individual classifiers\r\n",
    "    - Meta-classifier is applied on top of these classifier outcomes\r\n",
    "- Method of application of meta-classifiers on probabilities\r\n",
    "    - Probabilities are obtained from individual classifiers\r\n",
    "    - Applying meta-classifier"
   ]
  },
  {
   "cell_type": "code",
   "execution_count": 5,
   "metadata": {},
   "outputs": [],
   "source": [
    "import pandas as pd \r\n",
    "import numpy as np \r\n",
    "import matplotlib.pyplot as plt"
   ]
  },
  {
   "cell_type": "code",
   "execution_count": 6,
   "metadata": {},
   "outputs": [],
   "source": [
    "df = pd.read_csv('employee_attrition.csv')\r\n",
    "num_col = list(df.describe().columns)\r\n",
    "col_categorical = list(set(df.columns).difference(num_col))\r\n",
    "remove_list = ['EmployeeCount', 'EmployeeNumber', 'StandardHours']\r\n",
    "col_numerical = [\r\n",
    "    e for e in num_col if e not in remove_list\r\n",
    "]\r\n",
    "attrition_to_num = {\r\n",
    "    'Yes' : 0,\r\n",
    "    'No' : 1\r\n",
    "}\r\n",
    "df['Attrition_num'] = df['Attrition'].map(attrition_to_num)\r\n",
    "col_categorical.remove('Attrition')\r\n",
    "df_cat = pd.get_dummies(df[col_categorical])\r\n",
    "X = pd.concat([df[col_numerical], df_cat], axis=1)\r\n",
    "y = df['Attrition_num']"
   ]
  },
  {
   "cell_type": "code",
   "execution_count": 7,
   "metadata": {},
   "outputs": [],
   "source": [
    "from sklearn.model_selection import train_test_split\r\n",
    "X_train, X_test, y_train, y_test = train_test_split(X, y)"
   ]
  },
  {
   "cell_type": "code",
   "execution_count": 8,
   "metadata": {},
   "outputs": [],
   "source": [
    "from sklearn.model_selection import cross_val_score, cross_val_predict\r\n",
    "from sklearn.metrics import accuracy_score, classification_report\r\n",
    "from sklearn.metrics import confusion_matrix, roc_auc_score\r\n",
    "from sklearn import preprocessing\r\n",
    "\r\n",
    "def printScore(clf, X_train, X_test, y_train, y_test, train=True):\r\n",
    "    lb = preprocessing.LabelBinarizer()\r\n",
    "    lb.fit(y_train)\r\n",
    "    if train:\r\n",
    "        res = clf.predict(X_train)\r\n",
    "        print('Train Results:\\n')\r\n",
    "        print('Accuracy: %.2f\\n' % accuracy_score(y_train, res))\r\n",
    "        print('Classification Report: \\n {} \\n'.format(classification_report(y_train, res)))\r\n",
    "        print('Confusion Matrix: \\n {} \\n'.format(confusion_matrix(y_train, res)))\r\n",
    "        print('ROC AUC: {0:.4f}\\n'.format(roc_auc_score(lb.transform(y_train), lb.transform(res))))\r\n",
    "    else:\r\n",
    "        res_test = clf.predict(X_test)\r\n",
    "        print('Test Results:\\n')\r\n",
    "        print('Accuracy: %.2f\\n' % accuracy_score(y_test, res_test))\r\n",
    "        print('Classification Report: \\n {} \\n'.format(classification_report(y_test, res_test)))\r\n",
    "        print('Confusion Matrix: \\n {} \\n'.format(confusion_matrix(y_test, res_test)))\r\n",
    "        print('ROC AUC: {0:.4f}\\n'.format(roc_auc_score(lb.transform(y_test), lb.transform(res_test))))"
   ]
  },
  {
   "cell_type": "code",
   "execution_count": 9,
   "metadata": {},
   "outputs": [],
   "source": [
    "from sklearn.tree import DecisionTreeClassifier\r\n",
    "tree_clf = DecisionTreeClassifier()\r\n",
    "tree_clf.fit(X_train, y_train);"
   ]
  },
  {
   "cell_type": "code",
   "execution_count": 10,
   "metadata": {},
   "outputs": [
    {
     "name": "stdout",
     "output_type": "stream",
     "text": [
      "Train Results:\n",
      "\n",
      "Accuracy: 1.00\n",
      "\n",
      "Classification Report: \n",
      "               precision    recall  f1-score   support\n",
      "\n",
      "           0       1.00      1.00      1.00       182\n",
      "           1       1.00      1.00      1.00       920\n",
      "\n",
      "    accuracy                           1.00      1102\n",
      "   macro avg       1.00      1.00      1.00      1102\n",
      "weighted avg       1.00      1.00      1.00      1102\n",
      " \n",
      "\n",
      "Confusion Matrix: \n",
      " [[182   0]\n",
      " [  0 920]] \n",
      "\n",
      "ROC AUC: 1.0000\n",
      "\n",
      "Test Results:\n",
      "\n",
      "Accuracy: 0.79\n",
      "\n",
      "Classification Report: \n",
      "               precision    recall  f1-score   support\n",
      "\n",
      "           0       0.27      0.25      0.26        55\n",
      "           1       0.87      0.88      0.88       313\n",
      "\n",
      "    accuracy                           0.79       368\n",
      "   macro avg       0.57      0.57      0.57       368\n",
      "weighted avg       0.78      0.79      0.78       368\n",
      " \n",
      "\n",
      "Confusion Matrix: \n",
      " [[ 14  41]\n",
      " [ 37 276]] \n",
      "\n",
      "ROC AUC: 0.5682\n",
      "\n"
     ]
    }
   ],
   "source": [
    "printScore(tree_clf, X_train, X_test, y_train, y_test)\r\n",
    "printScore(tree_clf, X_train, X_test, y_train, y_test, train=False)"
   ]
  },
  {
   "cell_type": "code",
   "execution_count": 11,
   "metadata": {},
   "outputs": [],
   "source": [
    "from sklearn.ensemble import RandomForestClassifier"
   ]
  },
  {
   "cell_type": "code",
   "execution_count": 12,
   "metadata": {},
   "outputs": [],
   "source": [
    "rf_clf = RandomForestClassifier(n_estimators=100)\r\n",
    "rf_clf.fit(X_train, y_train);"
   ]
  },
  {
   "cell_type": "code",
   "execution_count": 13,
   "metadata": {},
   "outputs": [
    {
     "name": "stdout",
     "output_type": "stream",
     "text": [
      "Train Results:\n",
      "\n",
      "Accuracy: 1.00\n",
      "\n",
      "Classification Report: \n",
      "               precision    recall  f1-score   support\n",
      "\n",
      "           0       1.00      1.00      1.00       182\n",
      "           1       1.00      1.00      1.00       920\n",
      "\n",
      "    accuracy                           1.00      1102\n",
      "   macro avg       1.00      1.00      1.00      1102\n",
      "weighted avg       1.00      1.00      1.00      1102\n",
      " \n",
      "\n",
      "Confusion Matrix: \n",
      " [[182   0]\n",
      " [  0 920]] \n",
      "\n",
      "ROC AUC: 1.0000\n",
      "\n",
      "Test Results:\n",
      "\n",
      "Accuracy: 0.87\n",
      "\n",
      "Classification Report: \n",
      "               precision    recall  f1-score   support\n",
      "\n",
      "           0       0.90      0.16      0.28        55\n",
      "           1       0.87      1.00      0.93       313\n",
      "\n",
      "    accuracy                           0.87       368\n",
      "   macro avg       0.89      0.58      0.60       368\n",
      "weighted avg       0.88      0.87      0.83       368\n",
      " \n",
      "\n",
      "Confusion Matrix: \n",
      " [[  9  46]\n",
      " [  1 312]] \n",
      "\n",
      "ROC AUC: 0.5802\n",
      "\n"
     ]
    }
   ],
   "source": [
    "printScore(rf_clf, X_train, X_test, y_train, y_test)\r\n",
    "printScore(rf_clf, X_train, X_test, y_train, y_test, train=False)"
   ]
  },
  {
   "cell_type": "code",
   "execution_count": 14,
   "metadata": {},
   "outputs": [
    {
     "data": {
      "text/html": [
       "<div>\n",
       "<style scoped>\n",
       "    .dataframe tbody tr th:only-of-type {\n",
       "        vertical-align: middle;\n",
       "    }\n",
       "\n",
       "    .dataframe tbody tr th {\n",
       "        vertical-align: top;\n",
       "    }\n",
       "\n",
       "    .dataframe thead th {\n",
       "        text-align: right;\n",
       "    }\n",
       "</style>\n",
       "<table border=\"1\" class=\"dataframe\">\n",
       "  <thead>\n",
       "    <tr style=\"text-align: right;\">\n",
       "      <th></th>\n",
       "      <th>tree</th>\n",
       "      <th>rf</th>\n",
       "      <th>Attrition_num</th>\n",
       "    </tr>\n",
       "  </thead>\n",
       "  <tbody>\n",
       "    <tr>\n",
       "      <th>0</th>\n",
       "      <td>1.0</td>\n",
       "      <td>1.00</td>\n",
       "      <td>1</td>\n",
       "    </tr>\n",
       "    <tr>\n",
       "      <th>1</th>\n",
       "      <td>1.0</td>\n",
       "      <td>0.94</td>\n",
       "      <td>1</td>\n",
       "    </tr>\n",
       "    <tr>\n",
       "      <th>2</th>\n",
       "      <td>0.0</td>\n",
       "      <td>0.21</td>\n",
       "      <td>0</td>\n",
       "    </tr>\n",
       "    <tr>\n",
       "      <th>3</th>\n",
       "      <td>0.0</td>\n",
       "      <td>0.09</td>\n",
       "      <td>0</td>\n",
       "    </tr>\n",
       "    <tr>\n",
       "      <th>4</th>\n",
       "      <td>1.0</td>\n",
       "      <td>0.99</td>\n",
       "      <td>1</td>\n",
       "    </tr>\n",
       "  </tbody>\n",
       "</table>\n",
       "</div>"
      ],
      "text/plain": [
       "   tree    rf  Attrition_num\n",
       "0   1.0  1.00              1\n",
       "1   1.0  0.94              1\n",
       "2   0.0  0.21              0\n",
       "3   0.0  0.09              0\n",
       "4   1.0  0.99              1"
      ]
     },
     "execution_count": 14,
     "metadata": {},
     "output_type": "execute_result"
    }
   ],
   "source": [
    "# probability comparison between both estimators\r\n",
    "en_en = pd.DataFrame()\r\n",
    "en_en['tree'] = pd.DataFrame(tree_clf.predict_proba(X_train))[1]\r\n",
    "en_en['rf'] = pd.DataFrame(rf_clf.predict_proba(X_train))[1]\r\n",
    "en_en = pd.concat([en_en, pd.DataFrame(y_train).reset_index(drop=True)], axis=1)\r\n",
    "en_en.head()"
   ]
  },
  {
   "cell_type": "markdown",
   "metadata": {},
   "source": [
    "# Meta Classifier"
   ]
  },
  {
   "cell_type": "code",
   "execution_count": 15,
   "metadata": {},
   "outputs": [],
   "source": [
    "from sklearn.linear_model import LogisticRegression"
   ]
  },
  {
   "cell_type": "code",
   "execution_count": 16,
   "metadata": {},
   "outputs": [
    {
     "data": {
      "text/plain": [
       "LogisticRegression(fit_intercept=False)"
      ]
     },
     "execution_count": 16,
     "metadata": {},
     "output_type": "execute_result"
    }
   ],
   "source": [
    "m_clf = LogisticRegression(fit_intercept=False, solver='lbfgs')\r\n",
    "m_clf.fit(en_en[['tree', 'rf']], en_en['Attrition_num'])"
   ]
  },
  {
   "cell_type": "code",
   "execution_count": 17,
   "metadata": {},
   "outputs": [
    {
     "data": {
      "text/html": [
       "<div>\n",
       "<style scoped>\n",
       "    .dataframe tbody tr th:only-of-type {\n",
       "        vertical-align: middle;\n",
       "    }\n",
       "\n",
       "    .dataframe tbody tr th {\n",
       "        vertical-align: top;\n",
       "    }\n",
       "\n",
       "    .dataframe thead th {\n",
       "        text-align: right;\n",
       "    }\n",
       "</style>\n",
       "<table border=\"1\" class=\"dataframe\">\n",
       "  <thead>\n",
       "    <tr style=\"text-align: right;\">\n",
       "      <th></th>\n",
       "      <th>tree</th>\n",
       "      <th>rf</th>\n",
       "      <th>combined</th>\n",
       "      <th>Attrition_num</th>\n",
       "    </tr>\n",
       "  </thead>\n",
       "  <tbody>\n",
       "    <tr>\n",
       "      <th>0</th>\n",
       "      <td>1.0</td>\n",
       "      <td>0.82</td>\n",
       "      <td>1</td>\n",
       "      <td>1</td>\n",
       "    </tr>\n",
       "    <tr>\n",
       "      <th>1</th>\n",
       "      <td>1.0</td>\n",
       "      <td>0.86</td>\n",
       "      <td>1</td>\n",
       "      <td>1</td>\n",
       "    </tr>\n",
       "    <tr>\n",
       "      <th>2</th>\n",
       "      <td>1.0</td>\n",
       "      <td>0.97</td>\n",
       "      <td>1</td>\n",
       "      <td>1</td>\n",
       "    </tr>\n",
       "    <tr>\n",
       "      <th>3</th>\n",
       "      <td>1.0</td>\n",
       "      <td>0.93</td>\n",
       "      <td>1</td>\n",
       "      <td>0</td>\n",
       "    </tr>\n",
       "    <tr>\n",
       "      <th>4</th>\n",
       "      <td>1.0</td>\n",
       "      <td>0.85</td>\n",
       "      <td>1</td>\n",
       "      <td>1</td>\n",
       "    </tr>\n",
       "    <tr>\n",
       "      <th>...</th>\n",
       "      <td>...</td>\n",
       "      <td>...</td>\n",
       "      <td>...</td>\n",
       "      <td>...</td>\n",
       "    </tr>\n",
       "    <tr>\n",
       "      <th>363</th>\n",
       "      <td>1.0</td>\n",
       "      <td>0.88</td>\n",
       "      <td>1</td>\n",
       "      <td>1</td>\n",
       "    </tr>\n",
       "    <tr>\n",
       "      <th>364</th>\n",
       "      <td>1.0</td>\n",
       "      <td>0.97</td>\n",
       "      <td>1</td>\n",
       "      <td>1</td>\n",
       "    </tr>\n",
       "    <tr>\n",
       "      <th>365</th>\n",
       "      <td>1.0</td>\n",
       "      <td>0.94</td>\n",
       "      <td>1</td>\n",
       "      <td>1</td>\n",
       "    </tr>\n",
       "    <tr>\n",
       "      <th>366</th>\n",
       "      <td>1.0</td>\n",
       "      <td>0.84</td>\n",
       "      <td>1</td>\n",
       "      <td>1</td>\n",
       "    </tr>\n",
       "    <tr>\n",
       "      <th>367</th>\n",
       "      <td>1.0</td>\n",
       "      <td>0.91</td>\n",
       "      <td>1</td>\n",
       "      <td>1</td>\n",
       "    </tr>\n",
       "  </tbody>\n",
       "</table>\n",
       "<p>368 rows × 4 columns</p>\n",
       "</div>"
      ],
      "text/plain": [
       "     tree    rf  combined  Attrition_num\n",
       "0     1.0  0.82         1              1\n",
       "1     1.0  0.86         1              1\n",
       "2     1.0  0.97         1              1\n",
       "3     1.0  0.93         1              0\n",
       "4     1.0  0.85         1              1\n",
       "..    ...   ...       ...            ...\n",
       "363   1.0  0.88         1              1\n",
       "364   1.0  0.97         1              1\n",
       "365   1.0  0.94         1              1\n",
       "366   1.0  0.84         1              1\n",
       "367   1.0  0.91         1              1\n",
       "\n",
       "[368 rows x 4 columns]"
      ]
     },
     "execution_count": 17,
     "metadata": {},
     "output_type": "execute_result"
    }
   ],
   "source": [
    "en_test = pd.DataFrame()\r\n",
    "en_test['tree'] = pd.DataFrame(tree_clf.predict_proba(X_test))[1]\r\n",
    "en_test['rf'] = pd.DataFrame(rf_clf.predict_proba(X_test))[1]\r\n",
    "en_test['combined'] = m_clf.predict(en_test[['tree', 'rf']])\r\n",
    "en_test = pd.concat([en_test, pd.DataFrame(y_test).reset_index(drop=True)], axis=1)\r\n",
    "en_test"
   ]
  },
  {
   "cell_type": "code",
   "execution_count": 18,
   "metadata": {},
   "outputs": [
    {
     "name": "stdout",
     "output_type": "stream",
     "text": [
      "combined        0    1\n",
      "Attrition_num         \n",
      "0              14   41\n",
      "1              37  276\n"
     ]
    }
   ],
   "source": [
    "print(pd.crosstab(en_test['Attrition_num'], en_test['combined']))"
   ]
  },
  {
   "cell_type": "markdown",
   "metadata": {},
   "source": [
    "## Ensemble of Ensembles - 2"
   ]
  },
  {
   "cell_type": "code",
   "execution_count": 19,
   "metadata": {},
   "outputs": [],
   "source": [
    "from sklearn.ensemble import RandomForestClassifier\r\n",
    "from sklearn.ensemble import BaggingClassifier\r\n",
    "from sklearn.ensemble import AdaBoostClassifier"
   ]
  },
  {
   "cell_type": "code",
   "execution_count": 20,
   "metadata": {},
   "outputs": [],
   "source": [
    "class_weight = {0:0.834, 1:0.166}"
   ]
  },
  {
   "cell_type": "code",
   "execution_count": 21,
   "metadata": {},
   "outputs": [
    {
     "data": {
      "text/plain": [
       "1    0.834846\n",
       "0    0.165154\n",
       "dtype: float64"
      ]
     },
     "execution_count": 21,
     "metadata": {},
     "output_type": "execute_result"
    }
   ],
   "source": [
    "pd.Series(list(y_train)).value_counts() / pd.Series(list(y_train)).count()"
   ]
  },
  {
   "cell_type": "code",
   "execution_count": 23,
   "metadata": {},
   "outputs": [],
   "source": [
    "forest = RandomForestClassifier(\r\n",
    "    class_weight=class_weight, n_estimators=100\r\n",
    ")"
   ]
  },
  {
   "cell_type": "code",
   "execution_count": 24,
   "metadata": {},
   "outputs": [],
   "source": [
    "ada = AdaBoostClassifier(\r\n",
    "    base_estimator=forest, n_estimators=100,\r\n",
    "    learning_rate=0.5, random_state=42\r\n",
    ")"
   ]
  },
  {
   "cell_type": "code",
   "execution_count": 25,
   "metadata": {},
   "outputs": [
    {
     "data": {
      "text/plain": [
       "AdaBoostClassifier(base_estimator=RandomForestClassifier(class_weight={0: 0.834,\n",
       "                                                                       1: 0.166}),\n",
       "                   learning_rate=0.5, n_estimators=100, random_state=42)"
      ]
     },
     "execution_count": 25,
     "metadata": {},
     "output_type": "execute_result"
    }
   ],
   "source": [
    "ada.fit(X_train, y_train.ravel())"
   ]
  },
  {
   "cell_type": "code",
   "execution_count": 26,
   "metadata": {},
   "outputs": [
    {
     "name": "stdout",
     "output_type": "stream",
     "text": [
      "Train Results:\n",
      "\n",
      "Accuracy: 1.00\n",
      "\n",
      "Classification Report: \n",
      "               precision    recall  f1-score   support\n",
      "\n",
      "           0       1.00      1.00      1.00       182\n",
      "           1       1.00      1.00      1.00       920\n",
      "\n",
      "    accuracy                           1.00      1102\n",
      "   macro avg       1.00      1.00      1.00      1102\n",
      "weighted avg       1.00      1.00      1.00      1102\n",
      " \n",
      "\n",
      "Confusion Matrix: \n",
      " [[182   0]\n",
      " [  0 920]] \n",
      "\n",
      "ROC AUC: 1.0000\n",
      "\n",
      "Test Results:\n",
      "\n",
      "Accuracy: 0.86\n",
      "\n",
      "Classification Report: \n",
      "               precision    recall  f1-score   support\n",
      "\n",
      "           0       1.00      0.09      0.17        55\n",
      "           1       0.86      1.00      0.93       313\n",
      "\n",
      "    accuracy                           0.86       368\n",
      "   macro avg       0.93      0.55      0.55       368\n",
      "weighted avg       0.88      0.86      0.81       368\n",
      " \n",
      "\n",
      "Confusion Matrix: \n",
      " [[  5  50]\n",
      " [  0 313]] \n",
      "\n",
      "ROC AUC: 0.5455\n",
      "\n"
     ]
    }
   ],
   "source": [
    "printScore(ada, X_train, X_test, y_train, y_test)\r\n",
    "printScore(ada, X_train, X_test, y_train, y_test, train=False)"
   ]
  },
  {
   "cell_type": "code",
   "execution_count": 33,
   "metadata": {},
   "outputs": [],
   "source": [
    "bag_clf = BaggingClassifier(\r\n",
    "    base_estimator=ada, n_estimators=50, \r\n",
    "    max_samples=1, max_features=1, bootstrap=True, \r\n",
    "    bootstrap_features=False, n_jobs=-1,random_state=42\r\n",
    ")"
   ]
  },
  {
   "cell_type": "code",
   "execution_count": 30,
   "metadata": {},
   "outputs": [
    {
     "data": {
      "text/plain": [
       "BaggingClassifier(base_estimator=AdaBoostClassifier(base_estimator=RandomForestClassifier(class_weight={0: 0.834,\n",
       "                                                                                                        1: 0.166}),\n",
       "                                                    learning_rate=0.5,\n",
       "                                                    n_estimators=100,\n",
       "                                                    random_state=42),\n",
       "                  max_features=1, max_samples=1, n_estimators=50, n_jobs=-1,\n",
       "                  random_state=42)"
      ]
     },
     "execution_count": 30,
     "metadata": {},
     "output_type": "execute_result"
    }
   ],
   "source": [
    "bag_clf.fit(X_train, y_train.ravel())"
   ]
  },
  {
   "cell_type": "code",
   "execution_count": 31,
   "metadata": {},
   "outputs": [
    {
     "name": "stdout",
     "output_type": "stream",
     "text": [
      "Train Results:\n",
      "\n",
      "Accuracy: 0.83\n",
      "\n",
      "Classification Report: \n",
      "               precision    recall  f1-score   support\n",
      "\n",
      "           0       0.00      0.00      0.00       182\n",
      "           1       0.83      1.00      0.91       920\n",
      "\n",
      "    accuracy                           0.83      1102\n",
      "   macro avg       0.42      0.50      0.45      1102\n",
      "weighted avg       0.70      0.83      0.76      1102\n",
      " \n",
      "\n",
      "Confusion Matrix: \n",
      " [[  0 182]\n",
      " [  0 920]] \n",
      "\n",
      "ROC AUC: 0.5000\n",
      "\n"
     ]
    },
    {
     "name": "stderr",
     "output_type": "stream",
     "text": [
      "C:\\Users\\ZQ848WR\\AppData\\Local\\Programs\\Python\\Python39\\lib\\site-packages\\sklearn\\metrics\\_classification.py:1248: UndefinedMetricWarning: Precision and F-score are ill-defined and being set to 0.0 in labels with no predicted samples. Use `zero_division` parameter to control this behavior.\n",
      "  _warn_prf(average, modifier, msg_start, len(result))\n",
      "C:\\Users\\ZQ848WR\\AppData\\Local\\Programs\\Python\\Python39\\lib\\site-packages\\sklearn\\metrics\\_classification.py:1248: UndefinedMetricWarning: Precision and F-score are ill-defined and being set to 0.0 in labels with no predicted samples. Use `zero_division` parameter to control this behavior.\n",
      "  _warn_prf(average, modifier, msg_start, len(result))\n",
      "C:\\Users\\ZQ848WR\\AppData\\Local\\Programs\\Python\\Python39\\lib\\site-packages\\sklearn\\metrics\\_classification.py:1248: UndefinedMetricWarning: Precision and F-score are ill-defined and being set to 0.0 in labels with no predicted samples. Use `zero_division` parameter to control this behavior.\n",
      "  _warn_prf(average, modifier, msg_start, len(result))\n"
     ]
    },
    {
     "name": "stdout",
     "output_type": "stream",
     "text": [
      "Test Results:\n",
      "\n",
      "Accuracy: 0.85\n",
      "\n",
      "Classification Report: \n",
      "               precision    recall  f1-score   support\n",
      "\n",
      "           0       0.00      0.00      0.00        55\n",
      "           1       0.85      1.00      0.92       313\n",
      "\n",
      "    accuracy                           0.85       368\n",
      "   macro avg       0.43      0.50      0.46       368\n",
      "weighted avg       0.72      0.85      0.78       368\n",
      " \n",
      "\n",
      "Confusion Matrix: \n",
      " [[  0  55]\n",
      " [  0 313]] \n",
      "\n",
      "ROC AUC: 0.5000\n",
      "\n"
     ]
    },
    {
     "name": "stderr",
     "output_type": "stream",
     "text": [
      "C:\\Users\\ZQ848WR\\AppData\\Local\\Programs\\Python\\Python39\\lib\\site-packages\\sklearn\\metrics\\_classification.py:1248: UndefinedMetricWarning: Precision and F-score are ill-defined and being set to 0.0 in labels with no predicted samples. Use `zero_division` parameter to control this behavior.\n",
      "  _warn_prf(average, modifier, msg_start, len(result))\n",
      "C:\\Users\\ZQ848WR\\AppData\\Local\\Programs\\Python\\Python39\\lib\\site-packages\\sklearn\\metrics\\_classification.py:1248: UndefinedMetricWarning: Precision and F-score are ill-defined and being set to 0.0 in labels with no predicted samples. Use `zero_division` parameter to control this behavior.\n",
      "  _warn_prf(average, modifier, msg_start, len(result))\n",
      "C:\\Users\\ZQ848WR\\AppData\\Local\\Programs\\Python\\Python39\\lib\\site-packages\\sklearn\\metrics\\_classification.py:1248: UndefinedMetricWarning: Precision and F-score are ill-defined and being set to 0.0 in labels with no predicted samples. Use `zero_division` parameter to control this behavior.\n",
      "  _warn_prf(average, modifier, msg_start, len(result))\n"
     ]
    }
   ],
   "source": [
    "printScore(bag_clf, X_train, X_test, y_train, y_test)\r\n",
    "printScore(bag_clf, X_train, X_test, y_train, y_test, train=False)"
   ]
  }
 ],
 "metadata": {
  "interpreter": {
   "hash": "8c379c6632b839fe8cc95899702fc1eeb76422933665f151db5b483d30b68fa5"
  },
  "kernelspec": {
   "display_name": "Python 3.9.5 64-bit",
   "name": "python3"
  },
  "language_info": {
   "codemirror_mode": {
    "name": "ipython",
    "version": 3
   },
   "file_extension": ".py",
   "mimetype": "text/x-python",
   "name": "python",
   "nbconvert_exporter": "python",
   "pygments_lexer": "ipython3",
   "version": "3.9.5"
  },
  "orig_nbformat": 4
 },
 "nbformat": 4,
 "nbformat_minor": 2
}