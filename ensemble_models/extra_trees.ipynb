{
 "cells": [
  {
   "cell_type": "markdown",
   "metadata": {},
   "source": [
    "# Extra Trees (Extremely Randomized Trees) Ensemble\r\n",
    "\r\n",
    "- RF is built upon decision trees\r\n",
    "- Decision tree node splitting is based on gini or entropy \r\n",
    "- Extra-Trees make use of random thresholds for each feature, unlike decision trees"
   ]
  },
  {
   "cell_type": "code",
   "execution_count": 4,
   "metadata": {},
   "outputs": [],
   "source": [
    "from sklearn.ensemble import ExtraTreesClassifier\r\n",
    "import seaborn as sns\r\n",
    "from sklearn import preprocessing\r\n",
    "from sklearn.preprocessing import LabelEncoder\r\n",
    "from sklearn.model_selection import train_test_split"
   ]
  },
  {
   "cell_type": "code",
   "execution_count": 5,
   "metadata": {},
   "outputs": [],
   "source": [
    "xt_clf = ExtraTreesClassifier(random_state=42, n_estimators=100)\r\n",
    "df = sns.load_dataset('titanic')\r\n",
    "df.dropna(inplace=True)\r\n",
    "X = df[['pclass', 'sex', 'age']].copy()\r\n",
    "le = preprocessing.LabelEncoder()\r\n",
    "X['sex'] = le.fit_transform(df['sex'])\r\n",
    "y = df['survived'].copy()\r\n",
    "X_train, X_test, y_train, y_test = train_test_split(X, y, test_size=0.1)"
   ]
  },
  {
   "cell_type": "code",
   "execution_count": 7,
   "metadata": {},
   "outputs": [],
   "source": [
    "xt_clf.fit(X_train, y_train);"
   ]
  },
  {
   "cell_type": "code",
   "execution_count": 8,
   "metadata": {},
   "outputs": [],
   "source": [
    "from sklearn.model_selection import cross_val_score, cross_val_predict\r\n",
    "from sklearn.metrics import accuracy_score, classification_report\r\n",
    "from sklearn.metrics import confusion_matrix, roc_auc_score\r\n",
    "\r\n",
    "def printScore(clf, X_train, X_test, y_train, y_test, train=True):\r\n",
    "    lb = preprocessing.LabelBinarizer()\r\n",
    "    lb.fit(y_train)\r\n",
    "    if train:\r\n",
    "        res = clf.predict(X_train)\r\n",
    "        print('Train Results:\\n')\r\n",
    "        print('Accuracy: %.2f\\n' % accuracy_score(y_train, res))\r\n",
    "        print('Classification Report: \\n {} \\n'.format(classification_report(y_train, res)))\r\n",
    "        print('Confusion Matrix: \\n {} \\n'.format(confusion_matrix(y_train, res)))\r\n",
    "        print('ROC AUC: {0:.4f}\\n'.format(roc_auc_score(lb.transform(y_train), lb.transform(res))))\r\n",
    "    else:\r\n",
    "        res_test = clf.predict(X_test)\r\n",
    "        print('Test Results:\\n')\r\n",
    "        print('Accuracy: %.2f\\n' % accuracy_score(y_test, res_test))\r\n",
    "        print('Classification Report: \\n {} \\n'.format(classification_report(y_test, res_test)))\r\n",
    "        print('Confusion Matrix: \\n {} \\n'.format(confusion_matrix(y_test, res_test)))\r\n",
    "        print('ROC AUC: {0:.4f}\\n'.format(roc_auc_score(lb.transform(y_test), lb.transform(res_test))))"
   ]
  },
  {
   "cell_type": "code",
   "execution_count": 9,
   "metadata": {},
   "outputs": [
    {
     "name": "stdout",
     "output_type": "stream",
     "text": [
      "Train Results:\n",
      "\n",
      "Accuracy: 0.94\n",
      "\n",
      "Classification Report: \n",
      "               precision    recall  f1-score   support\n",
      "\n",
      "           0       0.89      0.92      0.91        53\n",
      "           1       0.96      0.95      0.95       110\n",
      "\n",
      "    accuracy                           0.94       163\n",
      "   macro avg       0.93      0.93      0.93       163\n",
      "weighted avg       0.94      0.94      0.94       163\n",
      " \n",
      "\n",
      "Confusion Matrix: \n",
      " [[ 49   4]\n",
      " [  6 104]] \n",
      "\n",
      "ROC AUC: 0.9350\n",
      "\n",
      "Test Results:\n",
      "\n",
      "Accuracy: 0.84\n",
      "\n",
      "Classification Report: \n",
      "               precision    recall  f1-score   support\n",
      "\n",
      "           0       0.71      0.83      0.77         6\n",
      "           1       0.92      0.85      0.88        13\n",
      "\n",
      "    accuracy                           0.84        19\n",
      "   macro avg       0.82      0.84      0.82        19\n",
      "weighted avg       0.85      0.84      0.85        19\n",
      " \n",
      "\n",
      "Confusion Matrix: \n",
      " [[ 5  1]\n",
      " [ 2 11]] \n",
      "\n",
      "ROC AUC: 0.8397\n",
      "\n"
     ]
    }
   ],
   "source": [
    "printScore(xt_clf, X_train, X_test, y_train, y_test)\r\n",
    "printScore(xt_clf, X_train, X_test, y_train, y_test, train=False)"
   ]
  }
 ],
 "metadata": {
  "interpreter": {
   "hash": "8c379c6632b839fe8cc95899702fc1eeb76422933665f151db5b483d30b68fa5"
  },
  "kernelspec": {
   "display_name": "Python 3.9.5 64-bit",
   "name": "python3"
  },
  "language_info": {
   "codemirror_mode": {
    "name": "ipython",
    "version": 3
   },
   "file_extension": ".py",
   "mimetype": "text/x-python",
   "name": "python",
   "nbconvert_exporter": "python",
   "pygments_lexer": "ipython3",
   "version": "3.9.5"
  },
  "orig_nbformat": 4
 },
 "nbformat": 4,
 "nbformat_minor": 2
}