{
 "cells": [
  {
   "cell_type": "markdown",
   "metadata": {},
   "source": [
    "# Random Forest\r\n",
    "\r\n",
    "- Ensemble of decision trees\r\n",
    "- Trained using bagging method (repeated sampling with replacement)\r\n",
    "- Use uncorrelated trees"
   ]
  },
  {
   "cell_type": "code",
   "execution_count": 4,
   "metadata": {},
   "outputs": [],
   "source": [
    "from sklearn.ensemble import RandomForestClassifier\r\n",
    "from sklearn.model_selection import train_test_split\r\n",
    "import seaborn as sns"
   ]
  },
  {
   "cell_type": "code",
   "execution_count": 8,
   "metadata": {},
   "outputs": [],
   "source": [
    "df = sns.load_dataset('titanic')\r\n",
    "df.dropna(inplace=True)\r\n",
    "X = df[['pclass', 'sex', 'age']].copy()\r\n",
    "le = preprocessing.LabelEncoder()\r\n",
    "X['sex'] = le.fit_transform(df['sex'])\r\n",
    "y = df['survived'].copy()\r\n",
    "X_train, X_test, y_train, y_test = train_test_split(X, y, test_size=0.1)"
   ]
  },
  {
   "cell_type": "code",
   "execution_count": 6,
   "metadata": {},
   "outputs": [],
   "source": [
    "from sklearn import preprocessing\r\n",
    "from sklearn.model_selection import cross_val_score, cross_val_predict\r\n",
    "from sklearn.metrics import accuracy_score, classification_report\r\n",
    "from sklearn.metrics import confusion_matrix, roc_auc_score\r\n",
    "\r\n",
    "def printScore(clf, X_train, X_test, y_train, y_test, train=True):\r\n",
    "    lb = preprocessing.LabelBinarizer()\r\n",
    "    lb.fit(y_train)\r\n",
    "    if train:\r\n",
    "        res = clf.predict(X_train)\r\n",
    "        print('Train Results:\\n')\r\n",
    "        print('Accuracy: %.2f\\n' % accuracy_score(y_train, res))\r\n",
    "        print('Classification Report: \\n {} \\n'.format(classification_report(y_train, res)))\r\n",
    "        print('Confusion Matrix: \\n {} \\n'.format(confusion_matrix(y_train, res)))\r\n",
    "        print('ROC AUC: {0:.4f}\\n'.format(roc_auc_score(lb.transform(y_train), lb.transform(res))))\r\n",
    "    else:\r\n",
    "        res_test = clf.predict(X_test)\r\n",
    "        print('Test Results:\\n')\r\n",
    "        print('Accuracy: %.2f\\n' % accuracy_score(y_test, res_test))\r\n",
    "        print('Classification Report: \\n {} \\n'.format(classification_report(y_test, res_test)))\r\n",
    "        print('Confusion Matrix: \\n {} \\n'.format(confusion_matrix(y_test, res_test)))\r\n",
    "        print('ROC AUC: {0:.4f}\\n'.format(roc_auc_score(lb.transform(y_test), lb.transform(res_test))))"
   ]
  },
  {
   "cell_type": "code",
   "execution_count": 10,
   "metadata": {},
   "outputs": [],
   "source": [
    "rf_clf = RandomForestClassifier(random_state=42, n_estimators=100)\r\n",
    "rf_clf.fit(X_train, y_train);"
   ]
  },
  {
   "cell_type": "code",
   "execution_count": 13,
   "metadata": {},
   "outputs": [
    {
     "name": "stdout",
     "output_type": "stream",
     "text": [
      "Train Results:\n",
      "\n",
      "Accuracy: 0.93\n",
      "\n",
      "Classification Report: \n",
      "               precision    recall  f1-score   support\n",
      "\n",
      "           0       0.91      0.85      0.88        48\n",
      "           1       0.94      0.97      0.95       115\n",
      "\n",
      "    accuracy                           0.93       163\n",
      "   macro avg       0.93      0.91      0.92       163\n",
      "weighted avg       0.93      0.93      0.93       163\n",
      " \n",
      "\n",
      "Confusion Matrix: \n",
      " [[ 41   7]\n",
      " [  4 111]] \n",
      "\n",
      "ROC AUC: 0.9097\n",
      "\n",
      "Test Results:\n",
      "\n",
      "Accuracy: 0.79\n",
      "\n",
      "Classification Report: \n",
      "               precision    recall  f1-score   support\n",
      "\n",
      "           0       1.00      0.64      0.78        11\n",
      "           1       0.67      1.00      0.80         8\n",
      "\n",
      "    accuracy                           0.79        19\n",
      "   macro avg       0.83      0.82      0.79        19\n",
      "weighted avg       0.86      0.79      0.79        19\n",
      " \n",
      "\n",
      "Confusion Matrix: \n",
      " [[7 4]\n",
      " [0 8]] \n",
      "\n",
      "ROC AUC: 0.8182\n",
      "\n"
     ]
    }
   ],
   "source": [
    "printScore(rf_clf, X_train, X_test, y_train, y_test)\r\n",
    "printScore(rf_clf, X_train, X_test, y_train, y_test, train=False)\r\n"
   ]
  },
  {
   "cell_type": "code",
   "execution_count": 15,
   "metadata": {},
   "outputs": [],
   "source": [
    "from sklearn.pipeline import Pipeline\r\n",
    "from sklearn.model_selection import GridSearchCV"
   ]
  },
  {
   "cell_type": "code",
   "execution_count": 16,
   "metadata": {},
   "outputs": [],
   "source": [
    "rf_clf = RandomForestClassifier(random_state=42, n_estimators=100)"
   ]
  },
  {
   "cell_type": "code",
   "execution_count": 19,
   "metadata": {},
   "outputs": [
    {
     "name": "stdout",
     "output_type": "stream",
     "text": [
      "Fitting 5 folds for each of 72 candidates, totalling 360 fits\n"
     ]
    },
    {
     "data": {
      "text/plain": [
       "GridSearchCV(cv=5, estimator=RandomForestClassifier(random_state=42), n_jobs=-1,\n",
       "             param_grid={'bootstrap': [True, False],\n",
       "                         'criterion': ['gini', 'entropy'],\n",
       "                         'max_depth': [3, None], 'min_samples_leaf': [1, 3, 10],\n",
       "                         'min_samples_split': [2, 3, 10]},\n",
       "             scoring='accuracy', verbose=1)"
      ]
     },
     "execution_count": 19,
     "metadata": {},
     "output_type": "execute_result"
    }
   ],
   "source": [
    "params_grid = {\r\n",
    "    'max_depth' : [3, None],\r\n",
    "    'min_samples_split' : [2, 3, 10],\r\n",
    "    'min_samples_leaf' : [1, 3, 10],\r\n",
    "    'bootstrap' : [True, False],\r\n",
    "    'criterion' : ['gini', 'entropy']\r\n",
    "}\r\n",
    "grid_search = GridSearchCV(\r\n",
    "    rf_clf, params_grid, n_jobs=-1, cv=5, verbose=1, \r\n",
    "    scoring='accuracy'\r\n",
    ")\r\n",
    "grid_search.fit(X_train, y_train)"
   ]
  },
  {
   "cell_type": "code",
   "execution_count": 20,
   "metadata": {},
   "outputs": [
    {
     "data": {
      "text/plain": [
       "0.803409090909091"
      ]
     },
     "execution_count": 20,
     "metadata": {},
     "output_type": "execute_result"
    }
   ],
   "source": [
    "grid_search.best_score_"
   ]
  },
  {
   "cell_type": "code",
   "execution_count": 22,
   "metadata": {},
   "outputs": [
    {
     "data": {
      "text/plain": [
       "{'bootstrap': True,\n",
       " 'ccp_alpha': 0.0,\n",
       " 'class_weight': None,\n",
       " 'criterion': 'gini',\n",
       " 'max_depth': None,\n",
       " 'max_features': 'auto',\n",
       " 'max_leaf_nodes': None,\n",
       " 'max_samples': None,\n",
       " 'min_impurity_decrease': 0.0,\n",
       " 'min_impurity_split': None,\n",
       " 'min_samples_leaf': 1,\n",
       " 'min_samples_split': 2,\n",
       " 'min_weight_fraction_leaf': 0.0,\n",
       " 'n_estimators': 100,\n",
       " 'n_jobs': None,\n",
       " 'oob_score': False,\n",
       " 'random_state': 42,\n",
       " 'verbose': 0,\n",
       " 'warm_start': False}"
      ]
     },
     "execution_count": 22,
     "metadata": {},
     "output_type": "execute_result"
    }
   ],
   "source": [
    "grid_search.best_estimator_.get_params()"
   ]
  },
  {
   "cell_type": "code",
   "execution_count": 23,
   "metadata": {},
   "outputs": [
    {
     "name": "stdout",
     "output_type": "stream",
     "text": [
      "Train Results:\n",
      "\n",
      "Accuracy: 0.93\n",
      "\n",
      "Classification Report: \n",
      "               precision    recall  f1-score   support\n",
      "\n",
      "           0       0.91      0.85      0.88        48\n",
      "           1       0.94      0.97      0.95       115\n",
      "\n",
      "    accuracy                           0.93       163\n",
      "   macro avg       0.93      0.91      0.92       163\n",
      "weighted avg       0.93      0.93      0.93       163\n",
      " \n",
      "\n",
      "Confusion Matrix: \n",
      " [[ 41   7]\n",
      " [  4 111]] \n",
      "\n",
      "ROC AUC: 0.9097\n",
      "\n",
      "Test Results:\n",
      "\n",
      "Accuracy: 0.79\n",
      "\n",
      "Classification Report: \n",
      "               precision    recall  f1-score   support\n",
      "\n",
      "           0       1.00      0.64      0.78        11\n",
      "           1       0.67      1.00      0.80         8\n",
      "\n",
      "    accuracy                           0.79        19\n",
      "   macro avg       0.83      0.82      0.79        19\n",
      "weighted avg       0.86      0.79      0.79        19\n",
      " \n",
      "\n",
      "Confusion Matrix: \n",
      " [[7 4]\n",
      " [0 8]] \n",
      "\n",
      "ROC AUC: 0.8182\n",
      "\n"
     ]
    }
   ],
   "source": [
    "printScore(grid_search, X_train, X_test, y_train, y_test)\r\n",
    "printScore(grid_search, X_train, X_test, y_train, y_test, train=False)"
   ]
  }
 ],
 "metadata": {
  "interpreter": {
   "hash": "8c379c6632b839fe8cc95899702fc1eeb76422933665f151db5b483d30b68fa5"
  },
  "kernelspec": {
   "display_name": "Python 3.9.5 64-bit",
   "name": "python3"
  },
  "language_info": {
   "codemirror_mode": {
    "name": "ipython",
    "version": 3
   },
   "file_extension": ".py",
   "mimetype": "text/x-python",
   "name": "python",
   "nbconvert_exporter": "python",
   "pygments_lexer": "ipython3",
   "version": "3.9.5"
  },
  "orig_nbformat": 4
 },
 "nbformat": 4,
 "nbformat_minor": 2
}