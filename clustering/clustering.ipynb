{
 "cells": [
  {
   "cell_type": "markdown",
   "metadata": {},
   "source": [
    "# Clustering\r\n",
    "\r\n",
    "- Grouping a set of objects in such a way that objects in the same group (cluster) are more similar to each other than those in other groups\r\n",
    "- Examples include:\r\n",
    "    - NLP\r\n",
    "    - Computer vision\r\n",
    "    - Stock markets\r\n",
    "    - Customer / Market segmentation\r\n",
    "- Types of clustering:\r\n",
    "    - Connectivity based (distance, hierarchical)\r\n",
    "    - Centroid based (represents each cluster by a single mean vector, k-means)\r\n",
    "    - Distribution based (statistical distributions)\r\n",
    "    - Density based (clusters are connected, dense regions in space)"
   ]
  },
  {
   "cell_type": "code",
   "execution_count": null,
   "metadata": {},
   "outputs": [],
   "source": []
  }
 ],
 "metadata": {
  "interpreter": {
   "hash": "8c379c6632b839fe8cc95899702fc1eeb76422933665f151db5b483d30b68fa5"
  },
  "kernelspec": {
   "display_name": "Python 3.9.5 64-bit",
   "name": "python3"
  },
  "language_info": {
   "name": "python",
   "version": ""
  },
  "orig_nbformat": 4
 },
 "nbformat": 4,
 "nbformat_minor": 2
}